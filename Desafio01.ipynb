{
 "cells": [
  {
   "cell_type": "code",
   "execution_count": 5,
   "metadata": {},
   "outputs": [],
   "source": [
    "Numeros_Romanos = [\"I\",\"V\",\"X\",\"L\",\"C\",\"D\",\"M\"]\n",
    "Valores = [1,5,10,50,100,500,1000]"
   ]
  },
  {
   "cell_type": "code",
   "execution_count": 6,
   "metadata": {},
   "outputs": [],
   "source": [
    "input_ = \"MLVIII\" #colocar o numero em romano"
   ]
  },
  {
   "cell_type": "code",
   "execution_count": 7,
   "metadata": {},
   "outputs": [],
   "source": [
    "saida = []\n",
    "for i in input_.upper():\n",
    "    saida.append(Numeros_Romanos.index(i))\n",
    "\n",
    "resposta = Valores[saida[-1]]\n",
    "\n",
    "for i in range(len(saida)-1):\n",
    "    if saida[i] >= saida[i+1]:\n",
    "        resposta += Valores[saida[i]]\n",
    "    else:\n",
    "        resposta -= Valores[saida[i]]\n"
   ]
  },
  {
   "cell_type": "code",
   "execution_count": 8,
   "metadata": {},
   "outputs": [
    {
     "name": "stdout",
     "output_type": "stream",
     "text": [
      "O numero romano MLVIII em inteiro é 1058\n"
     ]
    }
   ],
   "source": [
    "print(\"O numero romano {} em inteiro é {}\".format(input_,resposta))"
   ]
  }
 ],
 "metadata": {
  "kernelspec": {
   "display_name": "Python 3.10.5 64-bit",
   "language": "python",
   "name": "python3"
  },
  "language_info": {
   "codemirror_mode": {
    "name": "ipython",
    "version": 3
   },
   "file_extension": ".py",
   "mimetype": "text/x-python",
   "name": "python",
   "nbconvert_exporter": "python",
   "pygments_lexer": "ipython3",
   "version": "3.10.5"
  },
  "orig_nbformat": 4,
  "vscode": {
   "interpreter": {
    "hash": "f42f955e7f8da3c548e302e1e5347a7e875359e0d4da102c4592ccaca30f562a"
   }
  }
 },
 "nbformat": 4,
 "nbformat_minor": 2
}
